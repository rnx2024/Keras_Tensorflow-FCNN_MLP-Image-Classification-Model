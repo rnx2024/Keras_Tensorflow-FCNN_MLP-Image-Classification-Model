{
  "nbformat": 4,
  "nbformat_minor": 0,
  "metadata": {
    "colab": {
      "provenance": [],
      "authorship_tag": "ABX9TyO1PELxdESKPewVT1mJjesk",
      "include_colab_link": true
    },
    "kernelspec": {
      "name": "python3",
      "display_name": "Python 3"
    },
    "language_info": {
      "name": "python"
    }
  },
  "cells": [
    {
      "cell_type": "markdown",
      "metadata": {
        "id": "view-in-github",
        "colab_type": "text"
      },
      "source": [
        "<a href=\"https://colab.research.google.com/github/rnx2024/Keras_Tensorflow-Image-Classification-Model-Training/blob/main/keras_tensorflow.ipynb\" target=\"_parent\"><img src=\"https://colab.research.google.com/assets/colab-badge.svg\" alt=\"Open In Colab\"/></a>"
      ]
    },
    {
      "cell_type": "code",
      "source": [
        "import tensorflow as tf\n",
        "\n",
        "# Printing TensorFlow version\n",
        "print(\"TensorFlow version: \", tf.__version__)\n",
        "\n",
        "# Loading the MNIST dataset from Keras\n",
        "mnist = tf.keras.datasets.mnist\n",
        "\n",
        "# Splitting dataset into training and testing sets\n",
        "(x_train, y_train), (x_test, y_test) = mnist.load_data()\n",
        "\n",
        "# Normalizing pixel values to be between 0 and 1\n",
        "x_train, x_test = x_train / 255.0, x_test / 255.0\n"
      ],
      "metadata": {
        "colab": {
          "base_uri": "https://localhost:8080/"
        },
        "id": "jydeYdeXBGYX",
        "outputId": "7e79d8ac-a9ae-4ff6-cfcc-c930829efa53"
      },
      "execution_count": 1,
      "outputs": [
        {
          "output_type": "stream",
          "name": "stdout",
          "text": [
            "TensorFlow version:  2.18.0\n",
            "Downloading data from https://storage.googleapis.com/tensorflow/tf-keras-datasets/mnist.npz\n",
            "\u001b[1m11490434/11490434\u001b[0m \u001b[32m━━━━━━━━━━━━━━━━━━━━\u001b[0m\u001b[37m\u001b[0m \u001b[1m0s\u001b[0m 0us/step\n"
          ]
        }
      ]
    },
    {
      "cell_type": "code",
      "source": [
        "# Define the Sequential model\n",
        "model = tf.keras.models.Sequential([\n",
        "    # Flatten the input data to a 1D array with an input shape of (28, 28)\n",
        "    tf.keras.layers.Flatten(input_shape=(28, 28)),\n",
        "    # First Dense layer with 128 units and ReLU activation function\n",
        "    tf.keras.layers.Dense(128, activation='relu'),\n",
        "    # Dropout layer with a dropout rate of 0.2\n",
        "    tf.keras.layers.Dropout(0.2),\n",
        "    # Output Dense layer with 10 units (for the 10 classes)\n",
        "    tf.keras.layers.Dense(10)\n",
        "])\n"
      ],
      "metadata": {
        "colab": {
          "base_uri": "https://localhost:8080/"
        },
        "id": "69c__IHrBs3M",
        "outputId": "249dc461-afb1-4ab4-b01b-4e5d3cd57389"
      },
      "execution_count": 2,
      "outputs": [
        {
          "output_type": "stream",
          "name": "stderr",
          "text": [
            "/usr/local/lib/python3.11/dist-packages/keras/src/layers/reshaping/flatten.py:37: UserWarning: Do not pass an `input_shape`/`input_dim` argument to a layer. When using Sequential models, prefer using an `Input(shape)` object as the first layer in the model instead.\n",
            "  super().__init__(**kwargs)\n"
          ]
        }
      ]
    },
    {
      "source": [
        "# Compile the model before fitting\n",
        "model.compile(optimizer='adam',\n",
        "              loss=tf.keras.losses.SparseCategoricalCrossentropy(from_logits=True),\n",
        "              metrics=['accuracy'])\n",
        "\n",
        "# Fit the model to the training data\n",
        "model.fit(x_train, y_train, epochs=5)\n",
        "\n",
        "# Make predictions on the training data\n",
        "predictions = model(x_train[:1]).numpy()\n",
        "\n",
        "# Define the loss function\n",
        "loss_fn = tf.keras.losses.SparseCategoricalCrossentropy(from_logits=True)\n",
        "\n",
        "# Calculate the loss for the first training example\n",
        "loss = loss_fn(y_train[:1], predictions).numpy()\n",
        "\n",
        "# Print the calculated loss\n",
        "print(\"Loss for the first training example:\", loss)"
      ],
      "cell_type": "code",
      "metadata": {
        "colab": {
          "base_uri": "https://localhost:8080/"
        },
        "id": "MUEq-8BADJWc",
        "outputId": "4bcd14eb-bb6b-40b0-999d-193236a41b1c"
      },
      "execution_count": 17,
      "outputs": [
        {
          "output_type": "stream",
          "name": "stdout",
          "text": [
            "Epoch 1/5\n",
            "\u001b[1m1875/1875\u001b[0m \u001b[32m━━━━━━━━━━━━━━━━━━━━\u001b[0m\u001b[37m\u001b[0m \u001b[1m7s\u001b[0m 3ms/step - accuracy: 0.7306 - loss: 1.2916\n",
            "Epoch 2/5\n",
            "\u001b[1m1875/1875\u001b[0m \u001b[32m━━━━━━━━━━━━━━━━━━━━\u001b[0m\u001b[37m\u001b[0m \u001b[1m10s\u001b[0m 3ms/step - accuracy: 0.9603 - loss: 0.1415\n",
            "Epoch 3/5\n",
            "\u001b[1m1875/1875\u001b[0m \u001b[32m━━━━━━━━━━━━━━━━━━━━\u001b[0m\u001b[37m\u001b[0m \u001b[1m11s\u001b[0m 3ms/step - accuracy: 0.9719 - loss: 0.0922\n",
            "Epoch 4/5\n",
            "\u001b[1m1875/1875\u001b[0m \u001b[32m━━━━━━━━━━━━━━━━━━━━\u001b[0m\u001b[37m\u001b[0m \u001b[1m11s\u001b[0m 4ms/step - accuracy: 0.9804 - loss: 0.0662\n",
            "Epoch 5/5\n",
            "\u001b[1m1875/1875\u001b[0m \u001b[32m━━━━━━━━━━━━━━━━━━━━\u001b[0m\u001b[37m\u001b[0m \u001b[1m6s\u001b[0m 3ms/step - accuracy: 0.9838 - loss: 0.0502\n",
            "Loss for the first training example: 0.0056555974\n"
          ]
        }
      ]
    },
    {
      "cell_type": "code",
      "source": [
        "model.evaluate(x_test, y_test, verbose=2)\n"
      ],
      "metadata": {
        "colab": {
          "base_uri": "https://localhost:8080/"
        },
        "id": "IMEVw15XDeEL",
        "outputId": "58a96e43-419d-4baa-a99e-7de6b181357e"
      },
      "execution_count": 10,
      "outputs": [
        {
          "output_type": "stream",
          "name": "stdout",
          "text": [
            "313/313 - 1s - 2ms/step - accuracy: 0.9784 - loss: 0.0701\n"
          ]
        },
        {
          "output_type": "execute_result",
          "data": {
            "text/plain": [
              "[0.07014314830303192, 0.9783999919891357]"
            ]
          },
          "metadata": {},
          "execution_count": 10
        }
      ]
    }
  ]
}